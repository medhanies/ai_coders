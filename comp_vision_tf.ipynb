{
 "cells": [
  {
   "cell_type": "markdown",
   "metadata": {},
   "source": [
    "### Computer Vision using Tensorflow"
   ]
  },
  {
   "cell_type": "code",
   "execution_count": 8,
   "metadata": {},
   "outputs": [
    {
     "name": "stdout",
     "output_type": "stream",
     "text": [
      "Epoch 1/50\n",
      "1875/1875 [==============================] - 1s 681us/step - loss: 0.5023 - accuracy: 0.8236\n",
      "Epoch 2/50\n",
      "1875/1875 [==============================] - 1s 629us/step - loss: 0.3750 - accuracy: 0.8636\n",
      "Epoch 3/50\n",
      "1875/1875 [==============================] - 1s 731us/step - loss: 0.3368 - accuracy: 0.8761\n",
      "Epoch 4/50\n",
      "1875/1875 [==============================] - 1s 657us/step - loss: 0.3158 - accuracy: 0.8831\n",
      "Epoch 5/50\n",
      "1875/1875 [==============================] - 1s 650us/step - loss: 0.2970 - accuracy: 0.8911\n",
      "Epoch 6/50\n",
      "1875/1875 [==============================] - 1s 616us/step - loss: 0.2806 - accuracy: 0.8956\n",
      "Epoch 7/50\n",
      "1875/1875 [==============================] - 1s 618us/step - loss: 0.2709 - accuracy: 0.8992\n",
      "Epoch 8/50\n",
      "1875/1875 [==============================] - 1s 729us/step - loss: 0.2596 - accuracy: 0.9034\n",
      "Epoch 9/50\n",
      "1875/1875 [==============================] - 1s 652us/step - loss: 0.2485 - accuracy: 0.9070\n",
      "Epoch 10/50\n",
      "1875/1875 [==============================] - 1s 679us/step - loss: 0.2392 - accuracy: 0.9105\n",
      "Epoch 11/50\n",
      "1875/1875 [==============================] - 1s 671us/step - loss: 0.2324 - accuracy: 0.9131\n",
      "Epoch 12/50\n",
      "1875/1875 [==============================] - 2s 805us/step - loss: 0.2252 - accuracy: 0.9156\n",
      "Epoch 13/50\n",
      "1875/1875 [==============================] - 1s 662us/step - loss: 0.2183 - accuracy: 0.9179\n",
      "Epoch 14/50\n",
      "1875/1875 [==============================] - 1s 603us/step - loss: 0.2110 - accuracy: 0.9201\n",
      "Epoch 15/50\n",
      "1875/1875 [==============================] - 1s 653us/step - loss: 0.2037 - accuracy: 0.9231\n",
      "Epoch 16/50\n",
      "1875/1875 [==============================] - 1s 635us/step - loss: 0.1990 - accuracy: 0.9250\n",
      "Epoch 17/50\n",
      "1875/1875 [==============================] - 1s 627us/step - loss: 0.1935 - accuracy: 0.9268\n",
      "Epoch 18/50\n",
      "1875/1875 [==============================] - 1s 652us/step - loss: 0.1883 - accuracy: 0.9296\n",
      "Epoch 19/50\n",
      "1875/1875 [==============================] - 1s 638us/step - loss: 0.1829 - accuracy: 0.9315\n",
      "Epoch 20/50\n",
      "1875/1875 [==============================] - 1s 645us/step - loss: 0.1786 - accuracy: 0.9333\n",
      "Epoch 21/50\n",
      "1875/1875 [==============================] - 1s 753us/step - loss: 0.1744 - accuracy: 0.9340\n",
      "Epoch 22/50\n",
      "1875/1875 [==============================] - 1s 694us/step - loss: 0.1690 - accuracy: 0.9367\n",
      "Epoch 23/50\n",
      "1875/1875 [==============================] - 1s 638us/step - loss: 0.1666 - accuracy: 0.9382\n",
      "Epoch 24/50\n",
      "1875/1875 [==============================] - 1s 734us/step - loss: 0.1617 - accuracy: 0.9392\n",
      "Epoch 25/50\n",
      "1875/1875 [==============================] - 1s 637us/step - loss: 0.1585 - accuracy: 0.9404\n",
      "Epoch 26/50\n",
      "1875/1875 [==============================] - 1s 628us/step - loss: 0.1554 - accuracy: 0.9412\n",
      "Epoch 27/50\n",
      "1875/1875 [==============================] - 1s 683us/step - loss: 0.1508 - accuracy: 0.9427\n",
      "Epoch 28/50\n",
      "1875/1875 [==============================] - 1s 655us/step - loss: 0.1481 - accuracy: 0.9451\n",
      "Epoch 29/50\n",
      "1875/1875 [==============================] - 1s 636us/step - loss: 0.1447 - accuracy: 0.9454\n",
      "Epoch 30/50\n",
      "1875/1875 [==============================] - 1s 636us/step - loss: 0.1408 - accuracy: 0.9471\n",
      "Epoch 31/50\n",
      "1875/1875 [==============================] - 1s 638us/step - loss: 0.1371 - accuracy: 0.9481\n",
      "Epoch 32/50\n",
      "1875/1875 [==============================] - 1s 626us/step - loss: 0.1366 - accuracy: 0.9491\n",
      "Epoch 33/50\n",
      "1875/1875 [==============================] - 1s 678us/step - loss: 0.1308 - accuracy: 0.9511\n",
      "Epoch 34/50\n",
      "1875/1875 [==============================] - 1s 629us/step - loss: 0.1284 - accuracy: 0.9524\n",
      "Epoch 35/50\n",
      "1875/1875 [==============================] - 1s 627us/step - loss: 0.1294 - accuracy: 0.9510\n",
      "Epoch 36/50\n",
      "1875/1875 [==============================] - 1s 695us/step - loss: 0.1242 - accuracy: 0.9532\n",
      "Epoch 37/50\n",
      "1875/1875 [==============================] - 1s 663us/step - loss: 0.1224 - accuracy: 0.9542\n",
      "Epoch 38/50\n",
      "1875/1875 [==============================] - 1s 644us/step - loss: 0.1217 - accuracy: 0.9539\n",
      "Epoch 39/50\n",
      "1875/1875 [==============================] - 1s 652us/step - loss: 0.1172 - accuracy: 0.9559\n",
      "Epoch 40/50\n",
      "1875/1875 [==============================] - 1s 631us/step - loss: 0.1163 - accuracy: 0.9553\n",
      "Epoch 41/50\n",
      "1875/1875 [==============================] - 1s 761us/step - loss: 0.1152 - accuracy: 0.9572\n",
      "Epoch 42/50\n",
      "1875/1875 [==============================] - 1s 667us/step - loss: 0.1114 - accuracy: 0.9578\n",
      "Epoch 43/50\n",
      "1875/1875 [==============================] - 1s 634us/step - loss: 0.1095 - accuracy: 0.9587\n",
      "Epoch 44/50\n",
      "1875/1875 [==============================] - 1s 723us/step - loss: 0.1086 - accuracy: 0.9591\n",
      "Epoch 45/50\n",
      "1875/1875 [==============================] - 1s 689us/step - loss: 0.1075 - accuracy: 0.9595\n",
      "Epoch 46/50\n",
      "1875/1875 [==============================] - 1s 624us/step - loss: 0.1055 - accuracy: 0.9605\n",
      "Epoch 47/50\n",
      "1875/1875 [==============================] - 1s 668us/step - loss: 0.1027 - accuracy: 0.9615\n",
      "Epoch 48/50\n",
      "1875/1875 [==============================] - 1s 619us/step - loss: 0.1024 - accuracy: 0.9614\n",
      "Epoch 49/50\n",
      "1875/1875 [==============================] - 1s 788us/step - loss: 0.0992 - accuracy: 0.9624\n",
      "Epoch 50/50\n",
      "1875/1875 [==============================] - 1s 640us/step - loss: 0.0964 - accuracy: 0.9640\n"
     ]
    },
    {
     "data": {
      "text/plain": [
       "<keras.callbacks.History at 0x169b02210>"
      ]
     },
     "execution_count": 8,
     "metadata": {},
     "output_type": "execute_result"
    }
   ],
   "source": [
    "import tensorflow as tf\n",
    "data = tf.keras.datasets.fashion_mnist\n",
    "\n",
    "(training_images, training_labels), (test_images, test_labels) = data.load_data()\n",
    "\n",
    "training_images = training_images / 255.0\n",
    "test_images = test_images / 255.0\n",
    "\n",
    "model = tf.keras.models.Sequential([\n",
    "    tf.keras.layers.Flatten(input_shape=(28, 28)),\n",
    "    tf.keras.layers.Dense(128, activation=tf.nn.relu),\n",
    "    tf.keras.layers.Dense(10, activation=tf.nn.softmax)\n",
    "])\n",
    "\n",
    "model.compile(optimizer='adam',\n",
    "              loss='sparse_categorical_crossentropy',\n",
    "              metrics=['accuracy'])\n",
    "\n",
    "model.fit(training_images, training_labels, epochs=50)"
   ]
  },
  {
   "cell_type": "code",
   "execution_count": 9,
   "metadata": {},
   "outputs": [
    {
     "name": "stdout",
     "output_type": "stream",
     "text": [
      "313/313 [==============================] - 0s 415us/step - loss: 0.5039 - accuracy: 0.8890\n"
     ]
    },
    {
     "data": {
      "text/plain": [
       "[0.5038582682609558, 0.8889999985694885]"
      ]
     },
     "execution_count": 9,
     "metadata": {},
     "output_type": "execute_result"
    }
   ],
   "source": [
    "model.evaluate(test_images, test_labels)"
   ]
  },
  {
   "cell_type": "code",
   "execution_count": 10,
   "metadata": {},
   "outputs": [
    {
     "name": "stdout",
     "output_type": "stream",
     "text": [
      "313/313 [==============================] - 0s 354us/step\n"
     ]
    },
    {
     "data": {
      "text/plain": [
       "array([1.06713115e-16, 5.72204612e-22, 8.24423189e-17, 2.68859633e-24,\n",
       "       1.33758126e-20, 2.33061348e-10, 2.65525605e-17, 1.34797244e-06,\n",
       "       1.11449758e-17, 9.99998689e-01], dtype=float32)"
      ]
     },
     "execution_count": 10,
     "metadata": {},
     "output_type": "execute_result"
    }
   ],
   "source": [
    "classifications = model.predict(test_images)\n",
    "classifications[0]"
   ]
  },
  {
   "cell_type": "code",
   "execution_count": 11,
   "metadata": {},
   "outputs": [
    {
     "data": {
      "text/plain": [
       "9"
      ]
     },
     "execution_count": 11,
     "metadata": {},
     "output_type": "execute_result"
    }
   ],
   "source": [
    "test_labels[0]"
   ]
  },
  {
   "cell_type": "code",
   "execution_count": 12,
   "metadata": {},
   "outputs": [
    {
     "name": "stdout",
     "output_type": "stream",
     "text": [
      "Epoch 1/50\n",
      "1875/1875 [==============================] - 1s 662us/step - loss: 0.5045 - accuracy: 0.8237\n",
      "Epoch 2/50\n",
      "1875/1875 [==============================] - 2s 829us/step - loss: 0.3805 - accuracy: 0.8634\n",
      "Epoch 3/50\n",
      "1875/1875 [==============================] - 1s 753us/step - loss: 0.3396 - accuracy: 0.8763\n",
      "Epoch 4/50\n",
      "1875/1875 [==============================] - 1s 711us/step - loss: 0.3138 - accuracy: 0.8847\n",
      "Epoch 5/50\n",
      "1875/1875 [==============================] - 2s 808us/step - loss: 0.2971 - accuracy: 0.8915\n",
      "Epoch 6/50\n",
      "1875/1875 [==============================] - 1s 699us/step - loss: 0.2827 - accuracy: 0.8941\n",
      "Epoch 7/50\n",
      "1875/1875 [==============================] - 1s 633us/step - loss: 0.2688 - accuracy: 0.9012\n",
      "Epoch 8/50\n",
      "1875/1875 [==============================] - 1s 598us/step - loss: 0.2585 - accuracy: 0.9039\n",
      "Epoch 9/50\n",
      "1875/1875 [==============================] - 1s 597us/step - loss: 0.2482 - accuracy: 0.9075\n",
      "Epoch 10/50\n",
      "1875/1875 [==============================] - 1s 633us/step - loss: 0.2396 - accuracy: 0.9106\n",
      "Epoch 11/50\n",
      "1875/1875 [==============================] - 1s 664us/step - loss: 0.2323 - accuracy: 0.9130\n",
      "Epoch 12/50\n",
      "1875/1875 [==============================] - 2s 846us/step - loss: 0.2230 - accuracy: 0.9171\n",
      "Epoch 13/50\n",
      "1875/1875 [==============================] - 1s 622us/step - loss: 0.2171 - accuracy: 0.9184\n",
      "Epoch 14/50\n",
      "1875/1875 [==============================] - 1s 707us/step - loss: 0.2080 - accuracy: 0.9213\n",
      "Epoch 15/50\n",
      "1875/1875 [==============================] - 1s 751us/step - loss: 0.2037 - accuracy: 0.9239\n",
      "Epoch 16/50\n",
      "1875/1875 [==============================] - 1s 643us/step - loss: 0.1986 - accuracy: 0.9264\n",
      "Epoch 17/50\n",
      "1875/1875 [==============================] - 1s 607us/step - loss: 0.1918 - accuracy: 0.9283\n",
      "Epoch 18/50\n",
      "1875/1875 [==============================] - 1s 630us/step - loss: 0.1877 - accuracy: 0.9301\n",
      "Epoch 19/50\n",
      "1875/1875 [==============================] - 1s 685us/step - loss: 0.1846 - accuracy: 0.9307\n",
      "Epoch 20/50\n",
      "1875/1875 [==============================] - 2s 808us/step - loss: 0.1793 - accuracy: 0.9326\n",
      "Epoch 21/50\n",
      "1875/1875 [==============================] - 1s 614us/step - loss: 0.1749 - accuracy: 0.9340\n",
      "Epoch 22/50\n",
      "1875/1875 [==============================] - 1s 651us/step - loss: 0.1712 - accuracy: 0.9362\n",
      "Epoch 23/50\n",
      "1875/1875 [==============================] - 1s 605us/step - loss: 0.1656 - accuracy: 0.9375\n",
      "Epoch 24/50\n",
      "1875/1875 [==============================] - 1s 636us/step - loss: 0.1623 - accuracy: 0.9391\n",
      "Epoch 25/50\n",
      "1875/1875 [==============================] - 1s 607us/step - loss: 0.1592 - accuracy: 0.9394\n",
      "Epoch 26/50\n",
      "1875/1875 [==============================] - 1s 654us/step - loss: 0.1556 - accuracy: 0.9414\n",
      "Epoch 27/50\n",
      "1875/1875 [==============================] - 1s 704us/step - loss: 0.1503 - accuracy: 0.9433\n",
      "Epoch 28/50\n",
      "1875/1875 [==============================] - 1s 681us/step - loss: 0.1492 - accuracy: 0.9432\n",
      "Epoch 29/50\n",
      "1875/1875 [==============================] - 1s 605us/step - loss: 0.1455 - accuracy: 0.9452\n",
      "Epoch 30/50\n",
      "1875/1875 [==============================] - 1s 643us/step - loss: 0.1431 - accuracy: 0.9461\n",
      "Epoch 31/50\n",
      "1875/1875 [==============================] - 1s 604us/step - loss: 0.1400 - accuracy: 0.9467\n",
      "Epoch 32/50\n",
      "1875/1875 [==============================] - 1s 646us/step - loss: 0.1381 - accuracy: 0.9482\n",
      "Epoch 33/50\n",
      "1875/1875 [==============================] - 1s 647us/step - loss: 0.1345 - accuracy: 0.9495\n",
      "Epoch 34/50\n",
      "1835/1875 [============================>.] - ETA: 0s - loss: 0.1316 - accuracy: 0.9509\n",
      "Reached 95% accuracy so cancelling training!\n",
      "1875/1875 [==============================] - 1s 659us/step - loss: 0.1319 - accuracy: 0.9507\n"
     ]
    },
    {
     "data": {
      "text/plain": [
       "<keras.callbacks.History at 0x174121310>"
      ]
     },
     "execution_count": 12,
     "metadata": {},
     "output_type": "execute_result"
    }
   ],
   "source": [
    "# end training when accuracy reaches certain threshold\n",
    "class myCallback(tf.keras.callbacks.Callback):\n",
    "    def on_epoch_end(self, epoch, logs={}):\n",
    "        if(logs.get('accuracy')>0.95):\n",
    "            print(\"\\nReached 95% accuracy so cancelling training!\")\n",
    "            self.model.stop_training = True\n",
    "\n",
    "callbacks = myCallback()\n",
    "data = tf.keras.datasets.fashion_mnist\n",
    "\n",
    "(training_images, training_labels), (test_images, test_labels) = data.load_data()\n",
    "\n",
    "training_images=training_images/255.0\n",
    "test_images=test_images/255.0\n",
    "\n",
    "model = tf.keras.models.Sequential([\n",
    "    tf.keras.layers.Flatten(),\n",
    "    tf.keras.layers.Dense(128, activation=tf.nn.relu),\n",
    "    tf.keras.layers.Dense(10, activation=tf.nn.softmax)\n",
    "])\n",
    "\n",
    "model.compile(optimizer='adam',\n",
    "              loss='sparse_categorical_crossentropy',\n",
    "              metrics=['accuracy'])\n",
    "\n",
    "model.fit(training_images, training_labels, epochs=50, callbacks=[callbacks])"
   ]
  },
  {
   "cell_type": "code",
   "execution_count": null,
   "metadata": {},
   "outputs": [],
   "source": []
  },
  {
   "cell_type": "code",
   "execution_count": null,
   "metadata": {},
   "outputs": [],
   "source": []
  },
  {
   "cell_type": "code",
   "execution_count": null,
   "metadata": {},
   "outputs": [],
   "source": []
  },
  {
   "cell_type": "code",
   "execution_count": null,
   "metadata": {},
   "outputs": [],
   "source": []
  },
  {
   "cell_type": "code",
   "execution_count": null,
   "metadata": {},
   "outputs": [],
   "source": []
  },
  {
   "cell_type": "code",
   "execution_count": null,
   "metadata": {},
   "outputs": [],
   "source": []
  }
 ],
 "metadata": {
  "kernelspec": {
   "display_name": "tf",
   "language": "python",
   "name": "python3"
  },
  "language_info": {
   "codemirror_mode": {
    "name": "ipython",
    "version": 3
   },
   "file_extension": ".py",
   "mimetype": "text/x-python",
   "name": "python",
   "nbconvert_exporter": "python",
   "pygments_lexer": "ipython3",
   "version": "3.11.5"
  }
 },
 "nbformat": 4,
 "nbformat_minor": 2
}
